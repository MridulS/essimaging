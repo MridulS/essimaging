{
 "cells": [
  {
   "cell_type": "code",
   "execution_count": null,
   "metadata": {},
   "outputs": [],
   "source": [
    "from pathlib import Path\n",
    "from ess.imaging.io import FilePath, ImageStacks\n",
    "from ess.imaging.workflow import (\n",
    "    YmirWorkflow,\n",
    "    ImageDetectorName,\n",
    "    RotationMotionSensorName,\n",
    ")\n",
    "\n",
    "wf = YmirWorkflow()\n",
    "wf[FilePath] = Path('597001_00011360.hdf')\n",
    "wf[ImageDetectorName] = 'orca'\n",
    "wf[RotationMotionSensorName] = 'motion_cabinet_2'"
   ]
  },
  {
   "cell_type": "code",
   "execution_count": null,
   "metadata": {},
   "outputs": [],
   "source": [
    "wf.visualize((ImageStacks,))"
   ]
  },
  {
   "cell_type": "code",
   "execution_count": null,
   "metadata": {},
   "outputs": [],
   "source": [
    "from ess.imaging.io import HistogramModeDetectorData\n",
    "\n",
    "wf.compute(HistogramModeDetectorData)"
   ]
  },
  {
   "cell_type": "code",
   "execution_count": null,
   "metadata": {},
   "outputs": [],
   "source": [
    "wf.compute(ImageStacks)"
   ]
  }
 ],
 "metadata": {
  "kernelspec": {
   "display_name": "img-dev-310",
   "language": "python",
   "name": "python3"
  },
  "language_info": {
   "codemirror_mode": {
    "name": "ipython",
    "version": 3
   },
   "file_extension": ".py",
   "mimetype": "text/x-python",
   "name": "python",
   "nbconvert_exporter": "python",
   "pygments_lexer": "ipython3",
   "version": "3.10.14"
  }
 },
 "nbformat": 4,
 "nbformat_minor": 2
}
