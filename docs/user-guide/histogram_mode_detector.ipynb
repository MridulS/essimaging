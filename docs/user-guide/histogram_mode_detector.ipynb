{
 "cells": [
  {
   "cell_type": "markdown",
   "metadata": {},
   "source": [
    "# Histogram Mode Detector\n",
    "\n",
    "## IO"
   ]
  },
  {
   "cell_type": "code",
   "execution_count": null,
   "metadata": {},
   "outputs": [],
   "source": [
    "from ess.imaging.data import get_ymir_images_path\n",
    "from ess.imaging.io import FilePath, ImageStacks\n",
    "from ess.imaging.workflow import (\n",
    "    YmirWorkflow,\n",
    "    ImageDetectorName,\n",
    "    RotationMotionSensorName,\n",
    ")\n",
    "\n",
    "wf = YmirWorkflow()\n",
    "wf[FilePath] = get_ymir_images_path()\n",
    "wf[ImageDetectorName] = 'orca'\n",
    "wf[RotationMotionSensorName] = 'motion_cabinet_2'"
   ]
  },
  {
   "cell_type": "code",
   "execution_count": null,
   "metadata": {},
   "outputs": [],
   "source": [
    "wf.visualize((ImageStacks,))"
   ]
  },
  {
   "cell_type": "code",
   "execution_count": null,
   "metadata": {},
   "outputs": [],
   "source": [
    "image_stacks: ImageStacks = wf.compute(ImageStacks)\n",
    "image_stacks"
   ]
  },
  {
   "cell_type": "markdown",
   "metadata": {},
   "source": [
    "## Save Individual Frame"
   ]
  },
  {
   "cell_type": "code",
   "execution_count": null,
   "metadata": {},
   "outputs": [],
   "source": [
    "from ess.imaging.io import export_image_stacks_as_tiff, ImageKey\n",
    "\n",
    "from pathlib import Path\n",
    "from tqdm import tqdm\n",
    "\n",
    "\n",
    "output_dir = Path(\"images\")\n",
    "export_image_stacks_as_tiff(\n",
    "    output_dir=output_dir,\n",
    "    image_stacks=image_stacks,\n",
    "    merge_image_by_key=False,\n",
    "    overwrite=True,\n",
    "    progress_wrapper=tqdm,\n",
    "    image_prefix_map={\n",
    "        ImageKey.SAMPLE.value: \"sample\",\n",
    "        ImageKey.DARK_CURRENT.value: \"dc\",\n",
    "        ImageKey.OPEN_BEAM.value: \"ob\",\n",
    "    },\n",
    ")"
   ]
  },
  {
   "cell_type": "code",
   "execution_count": null,
   "metadata": {},
   "outputs": [],
   "source": [
    "sorted(output_dir.iterdir())"
   ]
  },
  {
   "cell_type": "markdown",
   "metadata": {},
   "source": [
    "## Save All Frames in One File"
   ]
  },
  {
   "cell_type": "code",
   "execution_count": null,
   "metadata": {},
   "outputs": [],
   "source": [
    "from ess.imaging.io import export_image_stacks_as_tiff, ImageKey\n",
    "from tqdm import tqdm\n",
    "from pathlib import Path\n",
    "\n",
    "\n",
    "output_dir = Path(\"images\")\n",
    "export_image_stacks_as_tiff(\n",
    "    output_dir=output_dir,\n",
    "    image_stacks=image_stacks,\n",
    "    merge_image_by_key=True,\n",
    "    overwrite=True,\n",
    "    progress_wrapper=tqdm,\n",
    "    image_prefix_map={\n",
    "        ImageKey.SAMPLE.value: \"sample\",\n",
    "        ImageKey.DARK_CURRENT.value: \"dc\",\n",
    "        ImageKey.OPEN_BEAM.value: \"ob\",\n",
    "    },\n",
    ")"
   ]
  },
  {
   "cell_type": "code",
   "execution_count": null,
   "metadata": {},
   "outputs": [],
   "source": [
    "tuple(output_dir.iterdir())"
   ]
  },
  {
   "cell_type": "code",
   "execution_count": null,
   "metadata": {
    "tags": [
     "remove-cell"
    ]
   },
   "outputs": [],
   "source": [
    "!rm -rf images"
   ]
  }
 ],
 "metadata": {
  "kernelspec": {
   "display_name": "img-dev-310",
   "language": "python",
   "name": "python3"
  },
  "language_info": {
   "codemirror_mode": {
    "name": "ipython",
    "version": 3
   },
   "file_extension": ".py",
   "mimetype": "text/x-python",
   "name": "python",
   "nbconvert_exporter": "python",
   "pygments_lexer": "ipython3",
   "version": "3.10.14"
  }
 },
 "nbformat": 4,
 "nbformat_minor": 2
}
